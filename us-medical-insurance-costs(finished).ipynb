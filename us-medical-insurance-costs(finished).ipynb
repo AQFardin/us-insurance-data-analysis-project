{
 "cells": [
  {
   "cell_type": "markdown",
   "metadata": {},
   "source": [
    "# U.S. Medical Insurance Costs"
   ]
  },
  {
   "cell_type": "code",
   "execution_count": 3,
   "metadata": {},
   "outputs": [],
   "source": [
    "import csv"
   ]
  },
  {
   "cell_type": "markdown",
   "metadata": {},
   "source": [
    "csv import is done which will be needed to open the file "
   ]
  },
  {
   "cell_type": "code",
   "execution_count": 5,
   "metadata": {},
   "outputs": [],
   "source": [
    "ages = []\n",
    "sexes = []\n",
    "bmis = []\n",
    "num_children = []\n",
    "smoker_statuses = []\n",
    "regions = []\n",
    "insurance_charges = []"
   ]
  },
  {
   "cell_type": "markdown",
   "metadata": {},
   "source": [
    "empy lists has been created as per the csv"
   ]
  },
  {
   "cell_type": "code",
   "execution_count": 21,
   "metadata": {},
   "outputs": [],
   "source": [
    "with open(\"insurance.csv\") as file:\n",
    "    csv_reader = csv.DictReader(file)\n",
    "    for row in csv_reader:\n",
    "        ages.append(int(row['age']))\n",
    "        sexes.append(row['sex'])\n",
    "        bmis.append(float(row['bmi']))\n",
    "        num_children.append(int(row['children']))\n",
    "        smoker_statuses.append(row['smoker'])\n",
    "        regions.append(row['region'])\n",
    "        insurance_charges.append(float(row['charges']))"
   ]
  },
  {
   "cell_type": "markdown",
   "metadata": {},
   "source": [
    "above code appends data to each variabe"
   ]
  },
  {
   "cell_type": "code",
   "execution_count": 160,
   "metadata": {},
   "outputs": [],
   "source": [
    "class Patients:\n",
    "    def __init__(self, ages, sexes, bmis, num_children, smoker_statuses, regions, charges):\n",
    "        self.ages = ages\n",
    "        self.sexes = sexes\n",
    "        self.bmis = bmis\n",
    "        self.num_children = num_children\n",
    "        self.smoker_statuses = smoker_statuses\n",
    "        self.regions = regions\n",
    "        self.charges = charges\n",
    "        \n",
    "    def count_sex(self):\n",
    "        male_count=0\n",
    "        female_count=0\n",
    "        for sex in self.sexes:\n",
    "            if sex=='male':\n",
    "                male_count+=1\n",
    "            else:\n",
    "                female_count+=1\n",
    "        return [male_count,female_count]\n",
    "    \n",
    "    def male_female_ratio(self):\n",
    "        male_count,female_count=self.count_sex()\n",
    "       \n",
    "        ratio=male_count/female_count\n",
    "        print(f\"male to female ratio is {ratio:.2f}.\")\n",
    "    \n",
    "    def avarage_age(self,sex=\"Both\"):\n",
    "        Usex=sex.upper()\n",
    "        total=0\n",
    "        count=0\n",
    "        if Usex==\"BOTH\" :\n",
    "            for age in self.ages:\n",
    "                total+=age\n",
    "                count+=1\n",
    "        elif Usex==\"FEMALE\":\n",
    "            for i in range(len(self.ages)):\n",
    "                if self.sexes[i]==\"female\":\n",
    "                    total+=self.ages[i]\n",
    "                    count+=1\n",
    "                else:\n",
    "                    pass\n",
    "        elif Usex==\"MALE\":\n",
    "            for i in range(len(self.ages)):\n",
    "                if self.sexes[i]==\"male\":\n",
    "                    total+=self.ages[i]\n",
    "                    count+=1\n",
    "                else:\n",
    "                    pass\n",
    "        else:\n",
    "            pass\n",
    "        \n",
    "        avarage=total/count\n",
    "        return {f\"Avarage age is {avarage:.2f} for {Usex} gender\"}\n",
    "    \n",
    "    def avarage_charge(self,sex=\"Both\"):\n",
    "        Usex=sex.upper()\n",
    "        total=0\n",
    "        count=0\n",
    "        if Usex==\"BOTH\" :\n",
    "            for charge in self.charges:\n",
    "                total+=charge\n",
    "                count+=1\n",
    "        elif Usex==\"FEMALE\":\n",
    "            for i in range(len(self.charges)):\n",
    "                if self.sexes[i]==\"female\":\n",
    "                    total+=self.charges[i]\n",
    "                    count+=1\n",
    "                else:\n",
    "                    pass\n",
    "        elif Usex==\"MALE\":\n",
    "            for i in range(len(self.ages)):\n",
    "                if self.sexes[i]==\"male\":\n",
    "                    total+=self.charges[i]\n",
    "                    count+=1\n",
    "                else:\n",
    "                    pass\n",
    "        else:\n",
    "            pass\n",
    "        \n",
    "        avarage=total/count\n",
    "        return {f\"Avarage charge is {avarage:.2f} for {Usex} gender\"}\n",
    "    \n",
    "    \n",
    "    def bmi_category(self):\n",
    "        bmi_categories = {\n",
    "            \"Underweight\": {\"total_charge\": 0, \"count\": 0},\n",
    "            \"Normal weight\": {\"total_charge\": 0, \"count\": 0},\n",
    "            \"Overweight\": {\"total_charge\": 0, \"count\": 0},\n",
    "            \"Obesity Class I (Moderate)\": {\"total_charge\": 0, \"count\": 0},\n",
    "            \"Obesity Class II (Severe)\": {\"total_charge\": 0, \"count\": 0},\n",
    "            \"Obesity Class III (Very severe or morbid obesity)\": {\"total_charge\": 0, \"count\": 0}\n",
    "        }\n",
    "\n",
    "        for bmi, charge in zip(self.bmis, self.charges):\n",
    "            if bmi < 18.5:\n",
    "                category = \"Underweight\"\n",
    "            elif 18.5 <= bmi <= 24.9:\n",
    "                category = \"Normal weight\"\n",
    "            elif 25.0 <= bmi <= 29.9:\n",
    "                category = \"Overweight\"\n",
    "            elif 30.0 <= bmi <= 34.9:\n",
    "                category = \"Obesity Class I (Moderate)\"\n",
    "            elif 35.0 <= bmi <= 39.9:\n",
    "                category = \"Obesity Class II (Severe)\"\n",
    "            else:  # bmi >= 40.0\n",
    "                category = \"Obesity Class III (Very severe or morbid obesity)\"\n",
    "\n",
    "            bmi_categories[category][\"total_charge\"] += charge\n",
    "            bmi_categories[category][\"count\"] += 1\n",
    "        return bmi_categories\n",
    "    \n",
    "\n",
    "\n",
    "    def average_charge_by_bmi_category(self):\n",
    "        bmi_categories=self.bmi_category()\n",
    "        average_charges = {}\n",
    "        for category, data in bmi_categories.items():\n",
    "            if data[\"count\"] > 0:\n",
    "                average_charges[category] = round((data[\"total_charge\"] / data[\"count\"]),2)\n",
    "            else:\n",
    "                average_charges[category] = 0\n",
    "\n",
    "        return average_charges\n",
    "    \n",
    "    def bmi_category_charge_percentage(self):\n",
    "        bmi_categories=self.bmi_category()\n",
    "        total_patients=len(self.charges)\n",
    "        total_charge=0\n",
    "        for charge in self.charges:\n",
    "            total_charge+=charge\n",
    "        percentage_ratio={}\n",
    "        for category, data in bmi_categories.items():\n",
    "            if category not in percentage_ratio:\n",
    "                percentage_ratio[category] = {}\n",
    "            patient_percentage=(data[\"count\"]/total_patients)*100\n",
    "            charge_percentage=(data[\"total_charge\"]/total_charge)*100\n",
    "            percentage_ratio[category][f\" {patient_percentage:.2f}% of total patient\"]= f\"Give {charge_percentage:.2f}% of charge\"\n",
    "        return percentage_ratio \n",
    "    \n",
    "    def smoke_relatiton_charge(self):\n",
    "        smoke={\n",
    "            \"smoker\":{\"total_charge\":0,\"count\":0},\n",
    "            \"nonsmoker\":{\"total_charge\":0,\"count\":0}\n",
    "        \n",
    "        }\n",
    "        avarage_smoker={}\n",
    "        \n",
    "        for smoker_status,charge in zip(self.smoker_statuses,self.charges):\n",
    "            if smoker_status==\"yes\":\n",
    "                smoke[\"smoker\"][\"total_charge\"]+=charge\n",
    "                smoke[\"smoker\"][\"count\"]+=1\n",
    "            else:\n",
    "                smoke[\"nonsmoker\"][\"total_charge\"]+=charge\n",
    "                smoke[\"nonsmoker\"][\"count\"]+=1\n",
    "        for category,data in smoke.items():\n",
    "            avarage_smoker[category]=data[\"total_charge\"] / data[\"count\"]\n",
    "            \n",
    "        return avarage_smoker\n",
    "        \n",
    "        \n",
    "    def region_status(self):\n",
    "        regions={}\n",
    "        total_patients=len(self.charges)\n",
    "        region_status={}\n",
    "        total_charge=0\n",
    "        for charge in self.charges:\n",
    "            total_charge+=charge\n",
    "            \n",
    "        for region,charge in zip(self.regions,self.charges):\n",
    "            if region not in regions:\n",
    "                regions[region]={}\n",
    "                regions[region][\"total_charge\"]=0\n",
    "                regions[region][\"count\"]=0\n",
    "            else:\n",
    "                regions[region][\"total_charge\"]+=charge\n",
    "                regions[region][\"count\"]+=1\n",
    "        for category,data in regions.items():\n",
    "            if category not in region_status:\n",
    "                region_status[category]={}\n",
    "            patient_percentage=(data[\"count\"]/total_patients)*100\n",
    "            charge_percentage=(data[\"total_charge\"]/total_charge)*100\n",
    "            region_status[category][f\"Population: {patient_percentage:.2f}% \"]= f\"Charge {charge_percentage:.2f}% \"\n",
    "            \n",
    "        return region_status\n",
    "    \n",
    "    def atleast_one_child(self):\n",
    "        total_patients=len(self.num_children)\n",
    "        count=0\n",
    "        for child in self.num_children:\n",
    "            if child>=1:\n",
    "                count+=1\n",
    "        percentage=(count/total_patients)*100\n",
    "        \n",
    "        return f\"{percentage:.2f}% of patients has at least one child\"\n",
    "    \n",
    "    def analyze_age(self):\n",
    "        Male=patient.avarage_age('male')\n",
    "        Female=patient.avarage_age('female')\n",
    "        both=patient.avarage_age()\n",
    "        \n",
    "        print(Male)\n",
    "        print(Female)\n",
    "        print(both)\n",
    "    \n",
    "    def analyze_charge(self):\n",
    "        Male=patient.avarage_charge('male')\n",
    "        Female=patient.avarage_charge('female')\n",
    "        both=patient.avarage_charge()\n",
    "        \n",
    "        print(Male)\n",
    "        print(Female)\n",
    "        print(both)\n",
    "        \n",
    "                    \n",
    "                \n",
    "        \n",
    "        \n",
    "        \n",
    "            \n",
    "                    "
   ]
  },
  {
   "cell_type": "code",
   "execution_count": 164,
   "metadata": {},
   "outputs": [],
   "source": [
    "patient = Patients(ages, sexes, bmis, num_children, smoker_statuses, regions, insurance_charges)\n"
   ]
  },
  {
   "cell_type": "code",
   "execution_count": 159,
   "metadata": {},
   "outputs": [
    {
     "name": "stdout",
     "output_type": "stream",
     "text": [
      "male to female ratio is 1.02.\n"
     ]
    },
    {
     "data": {
      "text/plain": [
       "'57.10% of patients has at least one child'"
      ]
     },
     "execution_count": 159,
     "metadata": {},
     "output_type": "execute_result"
    }
   ],
   "source": [
    "patient.male_female_ratio()\n",
    "patient.atleast_one_child()"
   ]
  },
  {
   "cell_type": "markdown",
   "metadata": {},
   "source": [
    "Male to Female Ratio\n",
    "The analysis of the patient demographic data reveals that the male to female ratio is approximately 1.02. This indicates a near-equal distribution of male and female patients within the dataset.\n",
    "\n",
    "Parental Status\n",
    "Further examination of the patient data shows that 57.10% of patients have at least one child. This significant proportion suggests that a majority of the patients included in the study are parents."
   ]
  },
  {
   "cell_type": "code",
   "execution_count": 148,
   "metadata": {},
   "outputs": [
    {
     "name": "stdout",
     "output_type": "stream",
     "text": [
      "{'Avarage age is 38.917160 for MALE gender'}\n",
      "{'Avarage age is 39.503021 for FEMALE gender'}\n",
      "{'Avarage age is 39.207025 for BOTH gender'}\n"
     ]
    }
   ],
   "source": [
    "patient.analyze_age()"
   ]
  },
  {
   "cell_type": "markdown",
   "metadata": {},
   "source": [
    "The analysis highlights slight variations in average age between male and female genders. Female patients have a slightly higher average age (39.50 years) compared to male patients (38.92 years). When considering both genders collectively, the average age is 39.21 years."
   ]
  },
  {
   "cell_type": "code",
   "execution_count": 162,
   "metadata": {},
   "outputs": [
    {
     "name": "stdout",
     "output_type": "stream",
     "text": [
      "{'Avarage charge is 13956.75 for MALE gender'}\n",
      "{'Avarage charge is 12569.58 for FEMALE gender'}\n",
      "{'Avarage charge is 13270.42 for BOTH gender'}\n"
     ]
    }
   ],
   "source": [
    "patient.analyze_charge()"
   ]
  },
  {
   "cell_type": "markdown",
   "metadata": {},
   "source": [
    "The analysis of the average charges reveals notable differences based on gender. Male patients incur higher average charges ($13,956.75) compared to female patients ($12,569.58). When considering the entire patient population, the overall average charge is $13,270.42. These findings suggest a gender disparity in the healthcare charges, which could be attributed to a variety of factors such as differences in treatment types, healthcare needs, or utilization patterns between male and female patients. Understanding these differences is crucial for healthcare providers and policymakers to ensure equitable and efficient allocation of healthcare resources."
   ]
  },
  {
   "cell_type": "code",
   "execution_count": 163,
   "metadata": {},
   "outputs": [
    {
     "data": {
      "text/plain": [
       "{'Underweight': 8852.2,\n",
       " 'Normal weight': 10379.5,\n",
       " 'Overweight': 10993.99,\n",
       " 'Obesity Class I (Moderate)': 14298.84,\n",
       " 'Obesity Class II (Severe)': 17073.19,\n",
       " 'Obesity Class III (Very severe or morbid obesity)': 16430.78}"
      ]
     },
     "execution_count": 163,
     "metadata": {},
     "output_type": "execute_result"
    }
   ],
   "source": [
    "patient.average_charge_by_bmi_category()\n"
   ]
  },
  {
   "cell_type": "markdown",
   "metadata": {},
   "source": [
    "The analysis of the average charges based on weight categories reveals a clear trend where healthcare charges increase with higher weight categories. Patients classified as underweight incur the lowest average charges ($8,852.20), whereas those in Obesity Class II (Severe) incur the highest average charges ($17,073.19). This trend suggests that as the severity of obesity increases, so do the healthcare costs, likely due to the increased medical needs and complications associated with higher weight categories. "
   ]
  },
  {
   "cell_type": "code",
   "execution_count": 132,
   "metadata": {},
   "outputs": [
    {
     "data": {
      "text/plain": [
       "{'Underweight': {' 1.49% of total patient': 'Give 1.00% of charge'},\n",
       " 'Normal weight': {' 16.59% of total patient': 'Give 12.98% of charge'},\n",
       " 'Overweight': {' 28.18% of total patient': 'Give 23.34% of charge'},\n",
       " 'Obesity Class I (Moderate)': {' 29.00% of total patient': 'Give 31.25% of charge'},\n",
       " 'Obesity Class II (Severe)': {' 16.67% of total patient': 'Give 21.44% of charge'},\n",
       " 'Obesity Class III (Very severe or morbid obesity)': {' 8.07% of total patient': 'Give 9.99% of charge'}}"
      ]
     },
     "execution_count": 132,
     "metadata": {},
     "output_type": "execute_result"
    }
   ],
   "source": [
    "patient.bmi_category_charge_percentage()"
   ]
  },
  {
   "cell_type": "markdown",
   "metadata": {},
   "source": [
    "The analysis of insurance charges based on weight categories highlights significant disparities in the distribution of healthcare costs. While only 1.49% of patients are classified as underweight, they contribute just 1.00% of the total insurance charges. In contrast, patients in the \"Obesity Class I (Moderate)\" category, who constitute 29.00% of the total patient population, account for the highest proportion of total insurance charges at 31.25%.\n",
    "\n",
    "Patients in the \"Obesity Class II (Severe)\" category, although comprising 16.67% of the patient population, contribute a substantial 21.44% of the total insurance charges. Similarly, the \"Obesity Class III (Very severe or morbid obesity)\" group, representing 8.07% of patients, accounts for 9.99% of total insurance charges.\n",
    "\n",
    "These findings indicate that higher weight categories are associated with disproportionately higher insurance charges, reflecting the increased healthcare needs and associated costs for patients with obesity. "
   ]
  },
  {
   "cell_type": "code",
   "execution_count": 134,
   "metadata": {},
   "outputs": [
    {
     "data": {
      "text/plain": [
       "{'smoker': 32050.23183153284, 'nonsmoker': 8434.268297856212}"
      ]
     },
     "execution_count": 134,
     "metadata": {},
     "output_type": "execute_result"
    }
   ],
   "source": [
    "patient.smoke_relatiton_charge()"
   ]
  },
  {
   "cell_type": "markdown",
   "metadata": {},
   "source": [
    "The analysis demonstrates a substantial disparity in average insurance charges between smokers and non-smokers. Smokers have significantly higher average insurance charges, with an average of $32,050.23, compared to non-smokers, whose average insurance charge is $8,434.27.\n",
    "\n",
    "This stark contrast underscores the considerable impact of smoking on healthcare costs, indicating that smokers tend to incur substantially higher healthcare expenses covered by insurance. "
   ]
  },
  {
   "cell_type": "code",
   "execution_count": 135,
   "metadata": {},
   "outputs": [
    {
     "data": {
      "text/plain": [
       "{'southwest': {'Population: 24.25% ': 'Charge 22.55% '},\n",
       " 'southeast': {'Population: 27.17% ': 'Charge 30.20% '},\n",
       " 'northwest': {'Population: 24.25% ': 'Charge 22.67% '},\n",
       " 'northeast': {'Population: 24.18% ': 'Charge 24.45% '}}"
      ]
     },
     "execution_count": 135,
     "metadata": {},
     "output_type": "execute_result"
    }
   ],
   "source": [
    "patient.region_status()"
   ]
  },
  {
   "cell_type": "markdown",
   "metadata": {},
   "source": [
    "The analysis indicates variations in insurance charges across different regions. The Southeast region stands out with both the highest population percentage (27.17%) and the highest insurance charges (30.20%). In contrast, the Southwest and Northwest regions have similar population percentages (24.25%) but slightly lower insurance charges (22.55% and 22.67% respectively).\n",
    "\n",
    "The Northeast region has a population percentage close to that of the Southwest and Northwest (24.18%), but it exhibits higher insurance charges (24.45%)."
   ]
  }
 ],
 "metadata": {
  "kernelspec": {
   "display_name": "Python 3 (ipykernel)",
   "language": "python",
   "name": "python3"
  },
  "language_info": {
   "codemirror_mode": {
    "name": "ipython",
    "version": 3
   },
   "file_extension": ".py",
   "mimetype": "text/x-python",
   "name": "python",
   "nbconvert_exporter": "python",
   "pygments_lexer": "ipython3",
   "version": "3.11.7"
  }
 },
 "nbformat": 4,
 "nbformat_minor": 4
}
